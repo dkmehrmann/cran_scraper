{
 "cells": [
  {
   "cell_type": "code",
   "execution_count": 1,
   "metadata": {
    "collapsed": true
   },
   "outputs": [],
   "source": [
    "from lxml import html\n",
    "import requests\n",
    "from time import sleep\n",
    "import json"
   ]
  },
  {
   "cell_type": "code",
   "execution_count": 9,
   "metadata": {
    "collapsed": true
   },
   "outputs": [],
   "source": [
    "base_url = \"https://cran.r-project.org/\""
   ]
  },
  {
   "cell_type": "code",
   "execution_count": 40,
   "metadata": {
    "collapsed": false
   },
   "outputs": [],
   "source": [
    "def get_package_names(base_url, max_iter=10000):\n",
    "    url = base_url + \"web/packages/available_packages_by_name.html\"\n",
    "    page = requests.get(url)\n",
    "    tree = html.fromstring(page.content)\n",
    "    \n",
    "    result = []\n",
    "    for i in range(2,max_iter):   \n",
    "        pkg_xpath = '//tr[{0}]/td[1]/a/text()'\n",
    "        pkg_name = tree.xpath(pkg_xpath.format(i))\n",
    "        if pkg_name != []:\n",
    "            result.append(str(pkg_name[0]))\n",
    "            miss_count = 0\n",
    "        else: # might be end, but might be just a skipped row\n",
    "            miss_count += 1\n",
    "            if miss_count == 2: # if two misses then call it quits\n",
    "                break\n",
    "    return result\n",
    "\n",
    "def build_urls(base_url, package_names):\n",
    "    \n",
    "    if type(package_names) == list:\n",
    "        urls = [base_url + \n",
    "                'web/packages/{0}/index.html'.format(x) \n",
    "                for x in package_names]\n",
    "        return urls\n",
    "    elif type(package_names) == str:\n",
    "        urls = base_url + 'web/packages/{0}/index.html'.format(package_names) \n",
    "        return urls\n",
    "    else:\n",
    "        raise TypeError(\"package_names must be string or list\")\n",
    "\n",
    "def get_depends(base_url, package_names):\n",
    "    \n",
    "    i = 1\n",
    "    result = {}\n",
    "    \n",
    "    for pkg in package_names:    \n",
    "        url = build_urls(base_url, pkg)\n",
    "        page = requests.get(url)\n",
    "        tree = html.fromstring(page.content)\n",
    "        depends = tree.xpath(\"*//table[1]/tr[2]/td[2]/a/text()\")\n",
    "        result[pkg] = depends\n",
    "        sleep(2)\n",
    "        i += 1\n",
    "        if i%100 == 0:\n",
    "            print(\"retrieved {0} of {1} package dependencies\"\\\n",
    "                  .format(i, len(package_names)))\n",
    "    \n",
    "    return(result)\n",
    "    "
   ]
  },
  {
   "cell_type": "code",
   "execution_count": 43,
   "metadata": {
    "collapsed": true
   },
   "outputs": [],
   "source": [
    "pkgs = get_package_names(base_url)\n",
    "\n",
    "d = get_depends(base_url, pkgs[:10])\n",
    "\n",
    "with open('test.json', 'w') as fp:\n",
    "    json.dump(d, fp)"
   ]
  },
  {
   "cell_type": "markdown",
   "metadata": {},
   "source": [
    "## Part 2: Download Logs\n"
   ]
  },
  {
   "cell_type": "code",
   "execution_count": 114,
   "metadata": {
    "collapsed": false
   },
   "outputs": [],
   "source": [
    "import urllib, os, gzip\n",
    "import pandas as pd\n",
    "from datetime import timedelta, date"
   ]
  },
  {
   "cell_type": "code",
   "execution_count": 119,
   "metadata": {
    "collapsed": false
   },
   "outputs": [],
   "source": [
    "def build_url(dt):\n",
    "    return \"http://cran-logs.rstudio.com/{0}/{0}-{1:02d}-{2:02d}.csv.gz\".format(*dt.timetuple()[0:3])\n",
    "\n",
    "def daterange(start_date, end_date):\n",
    "    for n in range(int ((end_date - start_date).days)):\n",
    "        yield start_date + timedelta(n)\n",
    "\n",
    "def get_logs(start_date, end_date):\n",
    "    directory_name = \"cran_logs-\" + time.strftime('%Y-%m-%d', time.gmtime())\n",
    "    if not os.path.exists(directory_name):\n",
    "        os.makedirs(directory_name)\n",
    "    \n",
    "    for single_date in daterange(start_date, end_date):\n",
    "        url = build_url(single_date)\n",
    "        fname = directory_name + \"/\" + url.split('/')[-1]\n",
    "        urllib.request.urlretrieve(url, fname)\n",
    "\n",
    "    return None\n",
    "\n",
    "def count_pkg_downloads(logdir):\n",
    "    res = pd.Series()\n",
    "    for subdir, dirs, files in os.walk(logdir):\n",
    "        for file in files:\n",
    "            with gzip.open(filename) as f:\n",
    "                log = pd.read_csv(f, usecols=[6]).package.value_counts()\n",
    "                res = res.add(log, fill_value=0)\n",
    "    return res\n"
   ]
  },
  {
   "cell_type": "code",
   "execution_count": 120,
   "metadata": {
    "collapsed": false
   },
   "outputs": [],
   "source": [
    "get_logs(date(2016,8,30), date(2016,9,5))\n",
    "\n",
    "res = count_pkg_downloads('cran_logs-2016-09-07')"
   ]
  },
  {
   "cell_type": "code",
   "execution_count": 161,
   "metadata": {
    "collapsed": false
   },
   "outputs": [
    {
     "data": {
      "text/plain": [
       "stringr         86574.0\n",
       "Rcpp            76290.0\n",
       "jsonlite        67836.0\n",
       "digest          66804.0\n",
       "ggplot2         61410.0\n",
       "stringi         60396.0\n",
       "plyr            57978.0\n",
       "magrittr        54900.0\n",
       "R6              50136.0\n",
       "reshape2        48318.0\n",
       "scales          47028.0\n",
       "base64enc       46728.0\n",
       "RColorBrewer    46392.0\n",
       "rmarkdown       45906.0\n",
       "mime            44874.0\n",
       "curl            44472.0\n",
       "gtable          43176.0\n",
       "munsell         42966.0\n",
       "colorspace      42360.0\n",
       "tibble          42120.0\n",
       "labeling        40794.0\n",
       "dichromat       40506.0\n",
       "DBI             40062.0\n",
       "knitr           40032.0\n",
       "dplyr           38718.0\n",
       "RCurl           36186.0\n",
       "bitops          34572.0\n",
       "htmltools       34380.0\n",
       "httr            34326.0\n",
       "yaml            33714.0\n",
       "BH              33318.0\n",
       "lazyeval        32694.0\n",
       "evaluate        31152.0\n",
       "markdown        30510.0\n",
       "XML             30480.0\n",
       "formatR         29844.0\n",
       "openssl         29658.0\n",
       "highr           29466.0\n",
       "Matrix          29190.0\n",
       "caTools         28866.0\n",
       "assertthat      28002.0\n",
       "rJava           26448.0\n",
       "devtools        26388.0\n",
       "data.table      25986.0\n",
       "car             25824.0\n",
       "gridExtra       25368.0\n",
       "chron           23742.0\n",
       "RcppEigen       23622.0\n",
       "zoo             22920.0\n",
       "xtable          22860.0\n",
       "dtype: float64"
      ]
     },
     "execution_count": 161,
     "metadata": {},
     "output_type": "execute_result"
    }
   ],
   "source": [
    "res.sort_values(inplace=False, ascending=False).head(50)"
   ]
  },
  {
   "cell_type": "markdown",
   "metadata": {},
   "source": [
    "References:\n",
    "* http://blog.revolutionanalytics.com/2015/06/fishing-for-packages-in-cran.html\n",
    "* https://renkun.me/blog/2014/07/29/scraping-information-of-cran-packages.html"
   ]
  },
  {
   "cell_type": "code",
   "execution_count": 46,
   "metadata": {
    "collapsed": false
   },
   "outputs": [],
   "source": [
    "with open('test.json','r') as f:\n",
    "    e = json.load(f)"
   ]
  },
  {
   "cell_type": "code",
   "execution_count": null,
   "metadata": {
    "collapsed": true
   },
   "outputs": [],
   "source": []
  }
 ],
 "metadata": {
  "kernelspec": {
   "display_name": "Python 3",
   "language": "python",
   "name": "python3"
  },
  "language_info": {
   "codemirror_mode": {
    "name": "ipython",
    "version": 3
   },
   "file_extension": ".py",
   "mimetype": "text/x-python",
   "name": "python",
   "nbconvert_exporter": "python",
   "pygments_lexer": "ipython3",
   "version": "3.4.2"
  },
  "widgets": {
   "state": {},
   "version": "1.1.2"
  }
 },
 "nbformat": 4,
 "nbformat_minor": 0
}
